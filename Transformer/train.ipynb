{
 "cells": [
  {
   "cell_type": "code",
   "execution_count": null,
   "metadata": {},
   "outputs": [],
   "source": [
    "from config import get_config \n",
    "\n",
    "cfg = get_config()\n",
    "cfg'batch_size'] = 6\n",
    "cfg[ 'preload'] = None\n",
    "cfg[ 'num_epochs* ] = 30\n",
    "\n",
    "from train import train_model \n",
    "train_mode1 (cfg)"
   ]
  }
 ],
 "metadata": {
  "language_info": {
   "name": "python"
  },
  "orig_nbformat": 4
 },
 "nbformat": 4,
 "nbformat_minor": 2
}
